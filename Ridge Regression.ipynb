{
 "cells": [
  {
   "cell_type": "markdown",
   "id": "0c54c5b8",
   "metadata": {},
   "source": [
    "# Ridge Regression"
   ]
  },
  {
   "attachments": {},
   "cell_type": "markdown",
   "id": "39d2dd39",
   "metadata": {},
   "source": []
  },
  {
   "cell_type": "code",
   "execution_count": 1,
   "id": "4dcd1321",
   "metadata": {},
   "outputs": [],
   "source": [
    "from warnings import filterwarnings\n",
    "filterwarnings('ignore')"
   ]
  },
  {
   "cell_type": "code",
   "execution_count": 2,
   "id": "bbdff804",
   "metadata": {},
   "outputs": [],
   "source": [
    "import os\n",
    "os.chdir('D:/Dataset')"
   ]
  },
  {
   "cell_type": "code",
   "execution_count": 3,
   "id": "0a8471a9",
   "metadata": {},
   "outputs": [],
   "source": [
    "import pandas as pd\n",
    "df = pd.read_csv('Cars93.csv')"
   ]
  },
  {
   "cell_type": "code",
   "execution_count": 4,
   "id": "9dca6eb1",
   "metadata": {},
   "outputs": [
    {
     "data": {
      "text/html": [
       "<div>\n",
       "<style scoped>\n",
       "    .dataframe tbody tr th:only-of-type {\n",
       "        vertical-align: middle;\n",
       "    }\n",
       "\n",
       "    .dataframe tbody tr th {\n",
       "        vertical-align: top;\n",
       "    }\n",
       "\n",
       "    .dataframe thead th {\n",
       "        text-align: right;\n",
       "    }\n",
       "</style>\n",
       "<table border=\"1\" class=\"dataframe\">\n",
       "  <thead>\n",
       "    <tr style=\"text-align: right;\">\n",
       "      <th></th>\n",
       "      <th>id</th>\n",
       "      <th>Manufacturer</th>\n",
       "      <th>Model</th>\n",
       "      <th>Type</th>\n",
       "      <th>Min.Price</th>\n",
       "      <th>Price</th>\n",
       "      <th>Max.Price</th>\n",
       "      <th>MPG.city</th>\n",
       "      <th>MPG.highway</th>\n",
       "      <th>AirBags</th>\n",
       "      <th>...</th>\n",
       "      <th>Passengers</th>\n",
       "      <th>Length</th>\n",
       "      <th>Wheelbase</th>\n",
       "      <th>Width</th>\n",
       "      <th>Turn.circle</th>\n",
       "      <th>Rear.seat.room</th>\n",
       "      <th>Luggage.room</th>\n",
       "      <th>Weight</th>\n",
       "      <th>Origin</th>\n",
       "      <th>Make</th>\n",
       "    </tr>\n",
       "  </thead>\n",
       "  <tbody>\n",
       "    <tr>\n",
       "      <th>0</th>\n",
       "      <td>1</td>\n",
       "      <td>Acura</td>\n",
       "      <td>Integra</td>\n",
       "      <td>Small</td>\n",
       "      <td>12.9</td>\n",
       "      <td>15.9</td>\n",
       "      <td>18.8</td>\n",
       "      <td>25</td>\n",
       "      <td>31</td>\n",
       "      <td>None</td>\n",
       "      <td>...</td>\n",
       "      <td>5</td>\n",
       "      <td>177</td>\n",
       "      <td>102</td>\n",
       "      <td>68</td>\n",
       "      <td>37</td>\n",
       "      <td>26.5</td>\n",
       "      <td>11.0</td>\n",
       "      <td>2705</td>\n",
       "      <td>non-USA</td>\n",
       "      <td>Acura Integra</td>\n",
       "    </tr>\n",
       "    <tr>\n",
       "      <th>1</th>\n",
       "      <td>2</td>\n",
       "      <td>Acura</td>\n",
       "      <td>Legend</td>\n",
       "      <td>Midsize</td>\n",
       "      <td>29.2</td>\n",
       "      <td>33.9</td>\n",
       "      <td>38.7</td>\n",
       "      <td>18</td>\n",
       "      <td>25</td>\n",
       "      <td>Driver &amp; Passenger</td>\n",
       "      <td>...</td>\n",
       "      <td>5</td>\n",
       "      <td>195</td>\n",
       "      <td>115</td>\n",
       "      <td>71</td>\n",
       "      <td>38</td>\n",
       "      <td>30.0</td>\n",
       "      <td>15.0</td>\n",
       "      <td>3560</td>\n",
       "      <td>non-USA</td>\n",
       "      <td>Acura Legend</td>\n",
       "    </tr>\n",
       "    <tr>\n",
       "      <th>2</th>\n",
       "      <td>3</td>\n",
       "      <td>Audi</td>\n",
       "      <td>90</td>\n",
       "      <td>Compact</td>\n",
       "      <td>25.9</td>\n",
       "      <td>29.1</td>\n",
       "      <td>32.3</td>\n",
       "      <td>20</td>\n",
       "      <td>26</td>\n",
       "      <td>Driver only</td>\n",
       "      <td>...</td>\n",
       "      <td>5</td>\n",
       "      <td>180</td>\n",
       "      <td>102</td>\n",
       "      <td>67</td>\n",
       "      <td>37</td>\n",
       "      <td>28.0</td>\n",
       "      <td>14.0</td>\n",
       "      <td>3375</td>\n",
       "      <td>non-USA</td>\n",
       "      <td>Audi 90</td>\n",
       "    </tr>\n",
       "    <tr>\n",
       "      <th>3</th>\n",
       "      <td>4</td>\n",
       "      <td>Audi</td>\n",
       "      <td>100</td>\n",
       "      <td>Midsize</td>\n",
       "      <td>30.8</td>\n",
       "      <td>37.7</td>\n",
       "      <td>44.6</td>\n",
       "      <td>19</td>\n",
       "      <td>26</td>\n",
       "      <td>NaN</td>\n",
       "      <td>...</td>\n",
       "      <td>6</td>\n",
       "      <td>193</td>\n",
       "      <td>106</td>\n",
       "      <td>70</td>\n",
       "      <td>37</td>\n",
       "      <td>31.0</td>\n",
       "      <td>17.0</td>\n",
       "      <td>3405</td>\n",
       "      <td>non-USA</td>\n",
       "      <td>Audi 100</td>\n",
       "    </tr>\n",
       "    <tr>\n",
       "      <th>4</th>\n",
       "      <td>5</td>\n",
       "      <td>BMW</td>\n",
       "      <td>535i</td>\n",
       "      <td>Midsize</td>\n",
       "      <td>23.7</td>\n",
       "      <td>30.0</td>\n",
       "      <td>36.2</td>\n",
       "      <td>22</td>\n",
       "      <td>30</td>\n",
       "      <td>Driver only</td>\n",
       "      <td>...</td>\n",
       "      <td>4</td>\n",
       "      <td>186</td>\n",
       "      <td>109</td>\n",
       "      <td>69</td>\n",
       "      <td>39</td>\n",
       "      <td>27.0</td>\n",
       "      <td>13.0</td>\n",
       "      <td>3640</td>\n",
       "      <td>non-USA</td>\n",
       "      <td>BMW 535i</td>\n",
       "    </tr>\n",
       "  </tbody>\n",
       "</table>\n",
       "<p>5 rows × 28 columns</p>\n",
       "</div>"
      ],
      "text/plain": [
       "   id Manufacturer    Model     Type  Min.Price  Price  Max.Price  MPG.city  \\\n",
       "0   1        Acura  Integra    Small       12.9   15.9       18.8        25   \n",
       "1   2        Acura   Legend  Midsize       29.2   33.9       38.7        18   \n",
       "2   3         Audi       90  Compact       25.9   29.1       32.3        20   \n",
       "3   4         Audi      100  Midsize       30.8   37.7       44.6        19   \n",
       "4   5          BMW     535i  Midsize       23.7   30.0       36.2        22   \n",
       "\n",
       "   MPG.highway             AirBags  ... Passengers Length  Wheelbase  Width  \\\n",
       "0           31                None  ...          5    177        102     68   \n",
       "1           25  Driver & Passenger  ...          5    195        115     71   \n",
       "2           26         Driver only  ...          5    180        102     67   \n",
       "3           26                 NaN  ...          6    193        106     70   \n",
       "4           30         Driver only  ...          4    186        109     69   \n",
       "\n",
       "   Turn.circle  Rear.seat.room Luggage.room  Weight   Origin           Make  \n",
       "0           37            26.5         11.0    2705  non-USA  Acura Integra  \n",
       "1           38            30.0         15.0    3560  non-USA   Acura Legend  \n",
       "2           37            28.0         14.0    3375  non-USA        Audi 90  \n",
       "3           37            31.0         17.0    3405  non-USA       Audi 100  \n",
       "4           39            27.0         13.0    3640  non-USA       BMW 535i  \n",
       "\n",
       "[5 rows x 28 columns]"
      ]
     },
     "execution_count": 4,
     "metadata": {},
     "output_type": "execute_result"
    }
   ],
   "source": [
    "df.head()"
   ]
  },
  {
   "cell_type": "code",
   "execution_count": 5,
   "id": "1f701cbd",
   "metadata": {},
   "outputs": [],
   "source": [
    "null = df.isnull().sum()"
   ]
  },
  {
   "cell_type": "code",
   "execution_count": 6,
   "id": "f4ceac1b",
   "metadata": {},
   "outputs": [
    {
     "data": {
      "text/plain": [
       "AirBags            4\n",
       "Rear.seat.room     2\n",
       "Luggage.room      11\n",
       "dtype: int64"
      ]
     },
     "execution_count": 6,
     "metadata": {},
     "output_type": "execute_result"
    }
   ],
   "source": [
    "null[null>0]"
   ]
  },
  {
   "cell_type": "markdown",
   "id": "29c21a27",
   "metadata": {},
   "source": [
    "# Create a pipeline with all freatures\n",
    "1. Cat = imputer "
   ]
  },
  {
   "cell_type": "code",
   "execution_count": 7,
   "id": "855367b0",
   "metadata": {},
   "outputs": [],
   "source": [
    "X = df.drop(labels=['id','Weight'],axis = 1)\n",
    "Y = df[['Weight']]"
   ]
  },
  {
   "cell_type": "code",
   "execution_count": 8,
   "id": "da1439a6",
   "metadata": {},
   "outputs": [
    {
     "data": {
      "text/html": [
       "<div>\n",
       "<style scoped>\n",
       "    .dataframe tbody tr th:only-of-type {\n",
       "        vertical-align: middle;\n",
       "    }\n",
       "\n",
       "    .dataframe tbody tr th {\n",
       "        vertical-align: top;\n",
       "    }\n",
       "\n",
       "    .dataframe thead th {\n",
       "        text-align: right;\n",
       "    }\n",
       "</style>\n",
       "<table border=\"1\" class=\"dataframe\">\n",
       "  <thead>\n",
       "    <tr style=\"text-align: right;\">\n",
       "      <th></th>\n",
       "      <th>Manufacturer</th>\n",
       "      <th>Model</th>\n",
       "      <th>Type</th>\n",
       "      <th>Min.Price</th>\n",
       "      <th>Price</th>\n",
       "      <th>Max.Price</th>\n",
       "      <th>MPG.city</th>\n",
       "      <th>MPG.highway</th>\n",
       "      <th>AirBags</th>\n",
       "      <th>DriveTrain</th>\n",
       "      <th>...</th>\n",
       "      <th>Fuel.tank.capacity</th>\n",
       "      <th>Passengers</th>\n",
       "      <th>Length</th>\n",
       "      <th>Wheelbase</th>\n",
       "      <th>Width</th>\n",
       "      <th>Turn.circle</th>\n",
       "      <th>Rear.seat.room</th>\n",
       "      <th>Luggage.room</th>\n",
       "      <th>Origin</th>\n",
       "      <th>Make</th>\n",
       "    </tr>\n",
       "  </thead>\n",
       "  <tbody>\n",
       "    <tr>\n",
       "      <th>0</th>\n",
       "      <td>Acura</td>\n",
       "      <td>Integra</td>\n",
       "      <td>Small</td>\n",
       "      <td>12.9</td>\n",
       "      <td>15.9</td>\n",
       "      <td>18.8</td>\n",
       "      <td>25</td>\n",
       "      <td>31</td>\n",
       "      <td>None</td>\n",
       "      <td>Front</td>\n",
       "      <td>...</td>\n",
       "      <td>13.2</td>\n",
       "      <td>5</td>\n",
       "      <td>177</td>\n",
       "      <td>102</td>\n",
       "      <td>68</td>\n",
       "      <td>37</td>\n",
       "      <td>26.5</td>\n",
       "      <td>11.0</td>\n",
       "      <td>non-USA</td>\n",
       "      <td>Acura Integra</td>\n",
       "    </tr>\n",
       "    <tr>\n",
       "      <th>1</th>\n",
       "      <td>Acura</td>\n",
       "      <td>Legend</td>\n",
       "      <td>Midsize</td>\n",
       "      <td>29.2</td>\n",
       "      <td>33.9</td>\n",
       "      <td>38.7</td>\n",
       "      <td>18</td>\n",
       "      <td>25</td>\n",
       "      <td>Driver &amp; Passenger</td>\n",
       "      <td>Front</td>\n",
       "      <td>...</td>\n",
       "      <td>18.0</td>\n",
       "      <td>5</td>\n",
       "      <td>195</td>\n",
       "      <td>115</td>\n",
       "      <td>71</td>\n",
       "      <td>38</td>\n",
       "      <td>30.0</td>\n",
       "      <td>15.0</td>\n",
       "      <td>non-USA</td>\n",
       "      <td>Acura Legend</td>\n",
       "    </tr>\n",
       "    <tr>\n",
       "      <th>2</th>\n",
       "      <td>Audi</td>\n",
       "      <td>90</td>\n",
       "      <td>Compact</td>\n",
       "      <td>25.9</td>\n",
       "      <td>29.1</td>\n",
       "      <td>32.3</td>\n",
       "      <td>20</td>\n",
       "      <td>26</td>\n",
       "      <td>Driver only</td>\n",
       "      <td>Front</td>\n",
       "      <td>...</td>\n",
       "      <td>16.9</td>\n",
       "      <td>5</td>\n",
       "      <td>180</td>\n",
       "      <td>102</td>\n",
       "      <td>67</td>\n",
       "      <td>37</td>\n",
       "      <td>28.0</td>\n",
       "      <td>14.0</td>\n",
       "      <td>non-USA</td>\n",
       "      <td>Audi 90</td>\n",
       "    </tr>\n",
       "    <tr>\n",
       "      <th>3</th>\n",
       "      <td>Audi</td>\n",
       "      <td>100</td>\n",
       "      <td>Midsize</td>\n",
       "      <td>30.8</td>\n",
       "      <td>37.7</td>\n",
       "      <td>44.6</td>\n",
       "      <td>19</td>\n",
       "      <td>26</td>\n",
       "      <td>NaN</td>\n",
       "      <td>Front</td>\n",
       "      <td>...</td>\n",
       "      <td>21.1</td>\n",
       "      <td>6</td>\n",
       "      <td>193</td>\n",
       "      <td>106</td>\n",
       "      <td>70</td>\n",
       "      <td>37</td>\n",
       "      <td>31.0</td>\n",
       "      <td>17.0</td>\n",
       "      <td>non-USA</td>\n",
       "      <td>Audi 100</td>\n",
       "    </tr>\n",
       "    <tr>\n",
       "      <th>4</th>\n",
       "      <td>BMW</td>\n",
       "      <td>535i</td>\n",
       "      <td>Midsize</td>\n",
       "      <td>23.7</td>\n",
       "      <td>30.0</td>\n",
       "      <td>36.2</td>\n",
       "      <td>22</td>\n",
       "      <td>30</td>\n",
       "      <td>Driver only</td>\n",
       "      <td>Rear</td>\n",
       "      <td>...</td>\n",
       "      <td>21.1</td>\n",
       "      <td>4</td>\n",
       "      <td>186</td>\n",
       "      <td>109</td>\n",
       "      <td>69</td>\n",
       "      <td>39</td>\n",
       "      <td>27.0</td>\n",
       "      <td>13.0</td>\n",
       "      <td>non-USA</td>\n",
       "      <td>BMW 535i</td>\n",
       "    </tr>\n",
       "  </tbody>\n",
       "</table>\n",
       "<p>5 rows × 26 columns</p>\n",
       "</div>"
      ],
      "text/plain": [
       "  Manufacturer    Model     Type  Min.Price  Price  Max.Price  MPG.city  \\\n",
       "0        Acura  Integra    Small       12.9   15.9       18.8        25   \n",
       "1        Acura   Legend  Midsize       29.2   33.9       38.7        18   \n",
       "2         Audi       90  Compact       25.9   29.1       32.3        20   \n",
       "3         Audi      100  Midsize       30.8   37.7       44.6        19   \n",
       "4          BMW     535i  Midsize       23.7   30.0       36.2        22   \n",
       "\n",
       "   MPG.highway             AirBags DriveTrain  ... Fuel.tank.capacity  \\\n",
       "0           31                None      Front  ...               13.2   \n",
       "1           25  Driver & Passenger      Front  ...               18.0   \n",
       "2           26         Driver only      Front  ...               16.9   \n",
       "3           26                 NaN      Front  ...               21.1   \n",
       "4           30         Driver only       Rear  ...               21.1   \n",
       "\n",
       "   Passengers  Length  Wheelbase  Width Turn.circle  Rear.seat.room  \\\n",
       "0           5     177        102     68          37            26.5   \n",
       "1           5     195        115     71          38            30.0   \n",
       "2           5     180        102     67          37            28.0   \n",
       "3           6     193        106     70          37            31.0   \n",
       "4           4     186        109     69          39            27.0   \n",
       "\n",
       "   Luggage.room   Origin           Make  \n",
       "0          11.0  non-USA  Acura Integra  \n",
       "1          15.0  non-USA   Acura Legend  \n",
       "2          14.0  non-USA        Audi 90  \n",
       "3          17.0  non-USA       Audi 100  \n",
       "4          13.0  non-USA       BMW 535i  \n",
       "\n",
       "[5 rows x 26 columns]"
      ]
     },
     "execution_count": 8,
     "metadata": {},
     "output_type": "execute_result"
    }
   ],
   "source": [
    "X.head()"
   ]
  },
  {
   "cell_type": "code",
   "execution_count": 9,
   "id": "5cf1a61b",
   "metadata": {},
   "outputs": [
    {
     "data": {
      "text/html": [
       "<div>\n",
       "<style scoped>\n",
       "    .dataframe tbody tr th:only-of-type {\n",
       "        vertical-align: middle;\n",
       "    }\n",
       "\n",
       "    .dataframe tbody tr th {\n",
       "        vertical-align: top;\n",
       "    }\n",
       "\n",
       "    .dataframe thead th {\n",
       "        text-align: right;\n",
       "    }\n",
       "</style>\n",
       "<table border=\"1\" class=\"dataframe\">\n",
       "  <thead>\n",
       "    <tr style=\"text-align: right;\">\n",
       "      <th></th>\n",
       "      <th>Weight</th>\n",
       "    </tr>\n",
       "  </thead>\n",
       "  <tbody>\n",
       "    <tr>\n",
       "      <th>0</th>\n",
       "      <td>2705</td>\n",
       "    </tr>\n",
       "    <tr>\n",
       "      <th>1</th>\n",
       "      <td>3560</td>\n",
       "    </tr>\n",
       "    <tr>\n",
       "      <th>2</th>\n",
       "      <td>3375</td>\n",
       "    </tr>\n",
       "    <tr>\n",
       "      <th>3</th>\n",
       "      <td>3405</td>\n",
       "    </tr>\n",
       "    <tr>\n",
       "      <th>4</th>\n",
       "      <td>3640</td>\n",
       "    </tr>\n",
       "  </tbody>\n",
       "</table>\n",
       "</div>"
      ],
      "text/plain": [
       "   Weight\n",
       "0    2705\n",
       "1    3560\n",
       "2    3375\n",
       "3    3405\n",
       "4    3640"
      ]
     },
     "execution_count": 9,
     "metadata": {},
     "output_type": "execute_result"
    }
   ],
   "source": [
    "Y.head()"
   ]
  },
  {
   "cell_type": "markdown",
   "id": "4cb54c49",
   "metadata": {},
   "source": [
    "# Cat con seperation for X (Independent Features)¶"
   ]
  },
  {
   "cell_type": "code",
   "execution_count": 10,
   "id": "56768b99",
   "metadata": {},
   "outputs": [],
   "source": [
    "from MyFunctions import catcondef"
   ]
  },
  {
   "cell_type": "code",
   "execution_count": 11,
   "id": "e846f998",
   "metadata": {},
   "outputs": [],
   "source": [
    "cat , con = catcondef(X)"
   ]
  },
  {
   "cell_type": "code",
   "execution_count": 12,
   "id": "219cafdd",
   "metadata": {},
   "outputs": [
    {
     "data": {
      "text/plain": [
       "['Manufacturer',\n",
       " 'Model',\n",
       " 'Type',\n",
       " 'AirBags',\n",
       " 'DriveTrain',\n",
       " 'Cylinders',\n",
       " 'Man.trans.avail',\n",
       " 'Origin',\n",
       " 'Make']"
      ]
     },
     "execution_count": 12,
     "metadata": {},
     "output_type": "execute_result"
    }
   ],
   "source": [
    "cat "
   ]
  },
  {
   "cell_type": "code",
   "execution_count": 13,
   "id": "1ff209c4",
   "metadata": {},
   "outputs": [
    {
     "data": {
      "text/plain": [
       "['Min.Price',\n",
       " 'Price',\n",
       " 'Max.Price',\n",
       " 'MPG.city',\n",
       " 'MPG.highway',\n",
       " 'EngineSize',\n",
       " 'Horsepower',\n",
       " 'RPM',\n",
       " 'Rev.per.mile',\n",
       " 'Fuel.tank.capacity',\n",
       " 'Passengers',\n",
       " 'Length',\n",
       " 'Wheelbase',\n",
       " 'Width',\n",
       " 'Turn.circle',\n",
       " 'Rear.seat.room',\n",
       " 'Luggage.room']"
      ]
     },
     "execution_count": 13,
     "metadata": {},
     "output_type": "execute_result"
    }
   ],
   "source": [
    "con"
   ]
  },
  {
   "cell_type": "code",
   "execution_count": 14,
   "id": "7b592966",
   "metadata": {},
   "outputs": [],
   "source": [
    "from sklearn.pipeline import Pipeline\n",
    "from sklearn.impute import SimpleImputer\n",
    "from sklearn.preprocessing import OneHotEncoder, StandardScaler\n",
    "from sklearn.compose import ColumnTransformer"
   ]
  },
  {
   "cell_type": "code",
   "execution_count": 15,
   "id": "f8027a46",
   "metadata": {},
   "outputs": [],
   "source": [
    "#Numeric Pipeline\n",
    "num_pipe = Pipeline(steps=[('imputer',SimpleImputer(strategy='mean')),\n",
    "                             ('scaler',StandardScaler())])\n",
    "\n",
    "#Categorical Pipeline\n",
    "cat_pipe = Pipeline(steps=[('imputer',SimpleImputer(strategy='most_frequent')),\n",
    "                            ('onw_hot_enc',OneHotEncoder(handle_unknown='ignore'))])\n",
    "\n",
    "#Combine with column transformer\n",
    "pre = ColumnTransformer([('num',num_pipe,con),\n",
    "                         ('cat',cat_pipe,cat)])"
   ]
  },
  {
   "cell_type": "code",
   "execution_count": 16,
   "id": "90942d4f",
   "metadata": {},
   "outputs": [],
   "source": [
    "X_pre = pre.fit_transform(X).toarray()"
   ]
  },
  {
   "cell_type": "code",
   "execution_count": 17,
   "id": "4596d682",
   "metadata": {},
   "outputs": [
    {
     "data": {
      "text/plain": [
       "array([[-0.48578741, -0.37572014, -0.28246529, ...,  0.        ,\n",
       "         0.        ,  0.        ],\n",
       "       [ 1.38801699,  1.49784409,  1.53140881, ...,  0.        ,\n",
       "         0.        ,  0.        ],\n",
       "       [ 1.00865782,  0.99822696,  0.94805231, ...,  0.        ,\n",
       "         0.        ,  0.        ],\n",
       "       ...,\n",
       "       [ 0.66378585,  0.39452293,  0.16416702, ...,  0.        ,\n",
       "         0.        ,  0.        ],\n",
       "       [ 0.53733279,  0.33207079,  0.14593713, ...,  0.        ,\n",
       "         1.        ,  0.        ],\n",
       "       [ 0.88220476,  0.7484184 ,  0.60168439, ...,  0.        ,\n",
       "         0.        ,  1.        ]])"
      ]
     },
     "execution_count": 17,
     "metadata": {},
     "output_type": "execute_result"
    }
   ],
   "source": [
    "X_pre"
   ]
  },
  {
   "cell_type": "code",
   "execution_count": 18,
   "id": "cabaf256",
   "metadata": {},
   "outputs": [],
   "source": [
    "cols = pre.get_feature_names_out()"
   ]
  },
  {
   "cell_type": "code",
   "execution_count": 19,
   "id": "e1a2f013",
   "metadata": {},
   "outputs": [
    {
     "name": "stdout",
     "output_type": "stream",
     "text": [
      "['num__Min.Price' 'num__Price' 'num__Max.Price' 'num__MPG.city'\n",
      " 'num__MPG.highway' 'num__EngineSize' 'num__Horsepower' 'num__RPM'\n",
      " 'num__Rev.per.mile' 'num__Fuel.tank.capacity' 'num__Passengers'\n",
      " 'num__Length' 'num__Wheelbase' 'num__Width' 'num__Turn.circle'\n",
      " 'num__Rear.seat.room' 'num__Luggage.room' 'cat__Manufacturer_Acura'\n",
      " 'cat__Manufacturer_Audi' 'cat__Manufacturer_BMW'\n",
      " 'cat__Manufacturer_Buick' 'cat__Manufacturer_Cadillac'\n",
      " 'cat__Manufacturer_Chevrolet' 'cat__Manufacturer_Chrylser'\n",
      " 'cat__Manufacturer_Chrysler' 'cat__Manufacturer_Dodge'\n",
      " 'cat__Manufacturer_Eagle' 'cat__Manufacturer_Ford'\n",
      " 'cat__Manufacturer_Geo' 'cat__Manufacturer_Honda'\n",
      " 'cat__Manufacturer_Hyundai' 'cat__Manufacturer_Infiniti'\n",
      " 'cat__Manufacturer_Lexus' 'cat__Manufacturer_Lincoln'\n",
      " 'cat__Manufacturer_Mazda' 'cat__Manufacturer_Mercedes-Benz'\n",
      " 'cat__Manufacturer_Mercury' 'cat__Manufacturer_Mitsubishi'\n",
      " 'cat__Manufacturer_Nissan' 'cat__Manufacturer_Oldsmobile'\n",
      " 'cat__Manufacturer_Plymouth' 'cat__Manufacturer_Pontiac'\n",
      " 'cat__Manufacturer_Saab' 'cat__Manufacturer_Saturn'\n",
      " 'cat__Manufacturer_Subaru' 'cat__Manufacturer_Suzuki'\n",
      " 'cat__Manufacturer_Toyota' 'cat__Manufacturer_Volkswagen'\n",
      " 'cat__Manufacturer_Volvo' 'cat__Model_100' 'cat__Model_190E'\n",
      " 'cat__Model_240' 'cat__Model_300E' 'cat__Model_323' 'cat__Model_535i'\n",
      " 'cat__Model_626' 'cat__Model_850' 'cat__Model_90' 'cat__Model_900'\n",
      " 'cat__Model_Accord' 'cat__Model_Achieva' 'cat__Model_Aerostar'\n",
      " 'cat__Model_Altima' 'cat__Model_Astro' 'cat__Model_Bonneville'\n",
      " 'cat__Model_Camaro' 'cat__Model_Camry' 'cat__Model_Capri'\n",
      " 'cat__Model_Caprice' 'cat__Model_Caravan' 'cat__Model_Cavalier'\n",
      " 'cat__Model_Celica' 'cat__Model_Century' 'cat__Model_Civic'\n",
      " 'cat__Model_Colt' 'cat__Model_Concorde' 'cat__Model_Continental'\n",
      " 'cat__Model_Corrado' 'cat__Model_Corsica' 'cat__Model_Corvette'\n",
      " 'cat__Model_Cougar' 'cat__Model_Crown_Victoria'\n",
      " 'cat__Model_Cutlass_Ciera' 'cat__Model_DeVille' 'cat__Model_Diamante'\n",
      " 'cat__Model_Dynasty' 'cat__Model_ES300' 'cat__Model_Eighty-Eight'\n",
      " 'cat__Model_Elantra' 'cat__Model_Escort' 'cat__Model_Eurovan'\n",
      " 'cat__Model_Excel' 'cat__Model_Festiva' 'cat__Model_Firebird'\n",
      " 'cat__Model_Fox' 'cat__Model_Grand_Prix' 'cat__Model_Imperial'\n",
      " 'cat__Model_Integra' 'cat__Model_Justy' 'cat__Model_Laser'\n",
      " 'cat__Model_LeBaron' 'cat__Model_LeMans' 'cat__Model_LeSabre'\n",
      " 'cat__Model_Legacy' 'cat__Model_Legend' 'cat__Model_Loyale'\n",
      " 'cat__Model_Lumina' 'cat__Model_Lumina_APV' 'cat__Model_MPV'\n",
      " 'cat__Model_Maxima' 'cat__Model_Metro' 'cat__Model_Mirage'\n",
      " 'cat__Model_Mustang' 'cat__Model_Passat' 'cat__Model_Prelude'\n",
      " 'cat__Model_Previa' 'cat__Model_Probe' 'cat__Model_Protege'\n",
      " 'cat__Model_Q45' 'cat__Model_Quest' 'cat__Model_RX-7'\n",
      " 'cat__Model_Riviera' 'cat__Model_Roadmaster' 'cat__Model_SC300'\n",
      " 'cat__Model_SL' 'cat__Model_Scoupe' 'cat__Model_Sentra'\n",
      " 'cat__Model_Seville' 'cat__Model_Shadow' 'cat__Model_Silhouette'\n",
      " 'cat__Model_Sonata' 'cat__Model_Spirit' 'cat__Model_Stealth'\n",
      " 'cat__Model_Storm' 'cat__Model_Summit' 'cat__Model_Sunbird'\n",
      " 'cat__Model_Swift' 'cat__Model_Taurus' 'cat__Model_Tempo'\n",
      " 'cat__Model_Tercel' 'cat__Model_Town_Car' 'cat__Model_Vision'\n",
      " 'cat__Type_Compact' 'cat__Type_Large' 'cat__Type_Midsize'\n",
      " 'cat__Type_Small' 'cat__Type_Sporty' 'cat__Type_Van'\n",
      " 'cat__AirBags_Driver & Passenger' 'cat__AirBags_Driver only'\n",
      " 'cat__AirBags_None' 'cat__DriveTrain_4WD' 'cat__DriveTrain_Front'\n",
      " 'cat__DriveTrain_Rear' 'cat__Cylinders_3' 'cat__Cylinders_4'\n",
      " 'cat__Cylinders_5' 'cat__Cylinders_6' 'cat__Cylinders_8'\n",
      " 'cat__Cylinders_rotary' 'cat__Man.trans.avail_No'\n",
      " 'cat__Man.trans.avail_Yes' 'cat__Origin_USA' 'cat__Origin_non-USA'\n",
      " 'cat__Make_Acura Integra' 'cat__Make_Acura Legend' 'cat__Make_Audi 100'\n",
      " 'cat__Make_Audi 90' 'cat__Make_BMW 535i' 'cat__Make_Buick Century'\n",
      " 'cat__Make_Buick LeSabre' 'cat__Make_Buick Riviera'\n",
      " 'cat__Make_Buick Roadmaster' 'cat__Make_Cadillac DeVille'\n",
      " 'cat__Make_Cadillac Seville' 'cat__Make_Chevrolet Astro'\n",
      " 'cat__Make_Chevrolet Camaro' 'cat__Make_Chevrolet Caprice'\n",
      " 'cat__Make_Chevrolet Cavalier' 'cat__Make_Chevrolet Corsica'\n",
      " 'cat__Make_Chevrolet Corvette' 'cat__Make_Chevrolet Lumina'\n",
      " 'cat__Make_Chevrolet Lumina_APV' 'cat__Make_Chrylser Concorde'\n",
      " 'cat__Make_Chrysler Imperial' 'cat__Make_Chrysler LeBaron'\n",
      " 'cat__Make_Dodge Caravan' 'cat__Make_Dodge Colt'\n",
      " 'cat__Make_Dodge Dynasty' 'cat__Make_Dodge Shadow'\n",
      " 'cat__Make_Dodge Spirit' 'cat__Make_Dodge Stealth'\n",
      " 'cat__Make_Eagle Summit' 'cat__Make_Eagle Vision'\n",
      " 'cat__Make_Ford Aerostar' 'cat__Make_Ford Crown_Victoria'\n",
      " 'cat__Make_Ford Escort' 'cat__Make_Ford Festiva' 'cat__Make_Ford Mustang'\n",
      " 'cat__Make_Ford Probe' 'cat__Make_Ford Taurus' 'cat__Make_Ford Tempo'\n",
      " 'cat__Make_Geo Metro' 'cat__Make_Geo Storm' 'cat__Make_Honda Accord'\n",
      " 'cat__Make_Honda Civic' 'cat__Make_Honda Prelude'\n",
      " 'cat__Make_Hyundai Elantra' 'cat__Make_Hyundai Excel'\n",
      " 'cat__Make_Hyundai Scoupe' 'cat__Make_Hyundai Sonata'\n",
      " 'cat__Make_Infiniti Q45' 'cat__Make_Lexus ES300' 'cat__Make_Lexus SC300'\n",
      " 'cat__Make_Lincoln Continental' 'cat__Make_Lincoln Town_Car'\n",
      " 'cat__Make_Mazda 323' 'cat__Make_Mazda 626' 'cat__Make_Mazda MPV'\n",
      " 'cat__Make_Mazda Protege' 'cat__Make_Mazda RX-7'\n",
      " 'cat__Make_Mercedes-Benz 190E' 'cat__Make_Mercedes-Benz 300E'\n",
      " 'cat__Make_Mercury Capri' 'cat__Make_Mercury Cougar'\n",
      " 'cat__Make_Mitsubishi Diamante' 'cat__Make_Mitsubishi Mirage'\n",
      " 'cat__Make_Nissan Altima' 'cat__Make_Nissan Maxima'\n",
      " 'cat__Make_Nissan Quest' 'cat__Make_Nissan Sentra'\n",
      " 'cat__Make_Oldsmobile Achieva' 'cat__Make_Oldsmobile Cutlass_Ciera'\n",
      " 'cat__Make_Oldsmobile Eighty-Eight' 'cat__Make_Oldsmobile Silhouette'\n",
      " 'cat__Make_Plymouth Laser' 'cat__Make_Pontiac Bonneville'\n",
      " 'cat__Make_Pontiac Firebird' 'cat__Make_Pontiac Grand_Prix'\n",
      " 'cat__Make_Pontiac LeMans' 'cat__Make_Pontiac Sunbird'\n",
      " 'cat__Make_Saab 900' 'cat__Make_Saturn SL' 'cat__Make_Subaru Justy'\n",
      " 'cat__Make_Subaru Legacy' 'cat__Make_Subaru Loyale'\n",
      " 'cat__Make_Suzuki Swift' 'cat__Make_Toyota Camry'\n",
      " 'cat__Make_Toyota Celica' 'cat__Make_Toyota Previa'\n",
      " 'cat__Make_Toyota Tercel' 'cat__Make_Volkswagen Corrado'\n",
      " 'cat__Make_Volkswagen Eurovan' 'cat__Make_Volkswagen Fox'\n",
      " 'cat__Make_Volkswagen Passat' 'cat__Make_Volvo 240' 'cat__Make_Volvo 850']\n"
     ]
    }
   ],
   "source": [
    "print(cols)"
   ]
  },
  {
   "cell_type": "code",
   "execution_count": 20,
   "id": "59cbe303",
   "metadata": {},
   "outputs": [],
   "source": [
    "X_pre =pd.DataFrame(X_pre,columns=cols)"
   ]
  },
  {
   "cell_type": "code",
   "execution_count": 21,
   "id": "cc7fb8e4",
   "metadata": {},
   "outputs": [
    {
     "data": {
      "text/html": [
       "<div>\n",
       "<style scoped>\n",
       "    .dataframe tbody tr th:only-of-type {\n",
       "        vertical-align: middle;\n",
       "    }\n",
       "\n",
       "    .dataframe tbody tr th {\n",
       "        vertical-align: top;\n",
       "    }\n",
       "\n",
       "    .dataframe thead th {\n",
       "        text-align: right;\n",
       "    }\n",
       "</style>\n",
       "<table border=\"1\" class=\"dataframe\">\n",
       "  <thead>\n",
       "    <tr style=\"text-align: right;\">\n",
       "      <th></th>\n",
       "      <th>num__Min.Price</th>\n",
       "      <th>num__Price</th>\n",
       "      <th>num__Max.Price</th>\n",
       "      <th>num__MPG.city</th>\n",
       "      <th>num__MPG.highway</th>\n",
       "      <th>num__EngineSize</th>\n",
       "      <th>num__Horsepower</th>\n",
       "      <th>num__RPM</th>\n",
       "      <th>num__Rev.per.mile</th>\n",
       "      <th>num__Fuel.tank.capacity</th>\n",
       "      <th>...</th>\n",
       "      <th>cat__Make_Toyota Camry</th>\n",
       "      <th>cat__Make_Toyota Celica</th>\n",
       "      <th>cat__Make_Toyota Previa</th>\n",
       "      <th>cat__Make_Toyota Tercel</th>\n",
       "      <th>cat__Make_Volkswagen Corrado</th>\n",
       "      <th>cat__Make_Volkswagen Eurovan</th>\n",
       "      <th>cat__Make_Volkswagen Fox</th>\n",
       "      <th>cat__Make_Volkswagen Passat</th>\n",
       "      <th>cat__Make_Volvo 240</th>\n",
       "      <th>cat__Make_Volvo 850</th>\n",
       "    </tr>\n",
       "  </thead>\n",
       "  <tbody>\n",
       "    <tr>\n",
       "      <th>0</th>\n",
       "      <td>-0.485787</td>\n",
       "      <td>-0.375720</td>\n",
       "      <td>-0.282465</td>\n",
       "      <td>0.471312</td>\n",
       "      <td>0.360925</td>\n",
       "      <td>-0.841022</td>\n",
       "      <td>-0.073484</td>\n",
       "      <td>1.717489</td>\n",
       "      <td>1.129530</td>\n",
       "      <td>-1.062184</td>\n",
       "      <td>...</td>\n",
       "      <td>0.0</td>\n",
       "      <td>0.0</td>\n",
       "      <td>0.0</td>\n",
       "      <td>0.0</td>\n",
       "      <td>0.0</td>\n",
       "      <td>0.0</td>\n",
       "      <td>0.0</td>\n",
       "      <td>0.0</td>\n",
       "      <td>0.0</td>\n",
       "      <td>0.0</td>\n",
       "    </tr>\n",
       "    <tr>\n",
       "      <th>1</th>\n",
       "      <td>1.388017</td>\n",
       "      <td>1.497844</td>\n",
       "      <td>1.531409</td>\n",
       "      <td>-0.781032</td>\n",
       "      <td>-0.770514</td>\n",
       "      <td>0.515869</td>\n",
       "      <td>1.078322</td>\n",
       "      <td>0.369586</td>\n",
       "      <td>0.005661</td>\n",
       "      <td>0.409445</td>\n",
       "      <td>...</td>\n",
       "      <td>0.0</td>\n",
       "      <td>0.0</td>\n",
       "      <td>0.0</td>\n",
       "      <td>0.0</td>\n",
       "      <td>0.0</td>\n",
       "      <td>0.0</td>\n",
       "      <td>0.0</td>\n",
       "      <td>0.0</td>\n",
       "      <td>0.0</td>\n",
       "      <td>0.0</td>\n",
       "    </tr>\n",
       "    <tr>\n",
       "      <th>2</th>\n",
       "      <td>1.008658</td>\n",
       "      <td>0.998227</td>\n",
       "      <td>0.948052</td>\n",
       "      <td>-0.423219</td>\n",
       "      <td>-0.581941</td>\n",
       "      <td>0.128186</td>\n",
       "      <td>0.540813</td>\n",
       "      <td>0.369586</td>\n",
       "      <td>-0.105713</td>\n",
       "      <td>0.072197</td>\n",
       "      <td>...</td>\n",
       "      <td>0.0</td>\n",
       "      <td>0.0</td>\n",
       "      <td>0.0</td>\n",
       "      <td>0.0</td>\n",
       "      <td>0.0</td>\n",
       "      <td>0.0</td>\n",
       "      <td>0.0</td>\n",
       "      <td>0.0</td>\n",
       "      <td>0.0</td>\n",
       "      <td>0.0</td>\n",
       "    </tr>\n",
       "    <tr>\n",
       "      <th>3</th>\n",
       "      <td>1.571949</td>\n",
       "      <td>1.893374</td>\n",
       "      <td>2.069191</td>\n",
       "      <td>-0.602126</td>\n",
       "      <td>-0.581941</td>\n",
       "      <td>0.128186</td>\n",
       "      <td>0.540813</td>\n",
       "      <td>0.369586</td>\n",
       "      <td>0.410659</td>\n",
       "      <td>1.359872</td>\n",
       "      <td>...</td>\n",
       "      <td>0.0</td>\n",
       "      <td>0.0</td>\n",
       "      <td>0.0</td>\n",
       "      <td>0.0</td>\n",
       "      <td>0.0</td>\n",
       "      <td>0.0</td>\n",
       "      <td>0.0</td>\n",
       "      <td>0.0</td>\n",
       "      <td>0.0</td>\n",
       "      <td>0.0</td>\n",
       "    </tr>\n",
       "    <tr>\n",
       "      <th>4</th>\n",
       "      <td>0.755752</td>\n",
       "      <td>1.091905</td>\n",
       "      <td>1.303535</td>\n",
       "      <td>-0.065407</td>\n",
       "      <td>0.172352</td>\n",
       "      <td>0.806631</td>\n",
       "      <td>1.231897</td>\n",
       "      <td>0.706562</td>\n",
       "      <td>0.430909</td>\n",
       "      <td>1.359872</td>\n",
       "      <td>...</td>\n",
       "      <td>0.0</td>\n",
       "      <td>0.0</td>\n",
       "      <td>0.0</td>\n",
       "      <td>0.0</td>\n",
       "      <td>0.0</td>\n",
       "      <td>0.0</td>\n",
       "      <td>0.0</td>\n",
       "      <td>0.0</td>\n",
       "      <td>0.0</td>\n",
       "      <td>0.0</td>\n",
       "    </tr>\n",
       "  </tbody>\n",
       "</table>\n",
       "<p>5 rows × 257 columns</p>\n",
       "</div>"
      ],
      "text/plain": [
       "   num__Min.Price  num__Price  num__Max.Price  num__MPG.city  \\\n",
       "0       -0.485787   -0.375720       -0.282465       0.471312   \n",
       "1        1.388017    1.497844        1.531409      -0.781032   \n",
       "2        1.008658    0.998227        0.948052      -0.423219   \n",
       "3        1.571949    1.893374        2.069191      -0.602126   \n",
       "4        0.755752    1.091905        1.303535      -0.065407   \n",
       "\n",
       "   num__MPG.highway  num__EngineSize  num__Horsepower  num__RPM  \\\n",
       "0          0.360925        -0.841022        -0.073484  1.717489   \n",
       "1         -0.770514         0.515869         1.078322  0.369586   \n",
       "2         -0.581941         0.128186         0.540813  0.369586   \n",
       "3         -0.581941         0.128186         0.540813  0.369586   \n",
       "4          0.172352         0.806631         1.231897  0.706562   \n",
       "\n",
       "   num__Rev.per.mile  num__Fuel.tank.capacity  ...  cat__Make_Toyota Camry  \\\n",
       "0           1.129530                -1.062184  ...                     0.0   \n",
       "1           0.005661                 0.409445  ...                     0.0   \n",
       "2          -0.105713                 0.072197  ...                     0.0   \n",
       "3           0.410659                 1.359872  ...                     0.0   \n",
       "4           0.430909                 1.359872  ...                     0.0   \n",
       "\n",
       "   cat__Make_Toyota Celica  cat__Make_Toyota Previa  cat__Make_Toyota Tercel  \\\n",
       "0                      0.0                      0.0                      0.0   \n",
       "1                      0.0                      0.0                      0.0   \n",
       "2                      0.0                      0.0                      0.0   \n",
       "3                      0.0                      0.0                      0.0   \n",
       "4                      0.0                      0.0                      0.0   \n",
       "\n",
       "   cat__Make_Volkswagen Corrado  cat__Make_Volkswagen Eurovan  \\\n",
       "0                           0.0                           0.0   \n",
       "1                           0.0                           0.0   \n",
       "2                           0.0                           0.0   \n",
       "3                           0.0                           0.0   \n",
       "4                           0.0                           0.0   \n",
       "\n",
       "   cat__Make_Volkswagen Fox  cat__Make_Volkswagen Passat  cat__Make_Volvo 240  \\\n",
       "0                       0.0                          0.0                  0.0   \n",
       "1                       0.0                          0.0                  0.0   \n",
       "2                       0.0                          0.0                  0.0   \n",
       "3                       0.0                          0.0                  0.0   \n",
       "4                       0.0                          0.0                  0.0   \n",
       "\n",
       "   cat__Make_Volvo 850  \n",
       "0                  0.0  \n",
       "1                  0.0  \n",
       "2                  0.0  \n",
       "3                  0.0  \n",
       "4                  0.0  \n",
       "\n",
       "[5 rows x 257 columns]"
      ]
     },
     "execution_count": 21,
     "metadata": {},
     "output_type": "execute_result"
    }
   ],
   "source": [
    "X_pre.head()"
   ]
  },
  {
   "cell_type": "markdown",
   "id": "ea5a832f",
   "metadata": {},
   "source": [
    "# Train Test Split"
   ]
  },
  {
   "cell_type": "code",
   "execution_count": 22,
   "id": "00b8a452",
   "metadata": {},
   "outputs": [],
   "source": [
    "from sklearn.model_selection import train_test_split\n",
    "xtrain,xtest,ytrain,ytest = train_test_split(X_pre,Y,test_size=0.2,random_state=10)"
   ]
  },
  {
   "cell_type": "code",
   "execution_count": 23,
   "id": "293e6c05",
   "metadata": {},
   "outputs": [
    {
     "data": {
      "text/plain": [
       "(74, 257)"
      ]
     },
     "execution_count": 23,
     "metadata": {},
     "output_type": "execute_result"
    }
   ],
   "source": [
    "xtrain.shape"
   ]
  },
  {
   "cell_type": "code",
   "execution_count": 24,
   "id": "5825766f",
   "metadata": {},
   "outputs": [
    {
     "data": {
      "text/plain": [
       "(19, 257)"
      ]
     },
     "execution_count": 24,
     "metadata": {},
     "output_type": "execute_result"
    }
   ],
   "source": [
    "xtest.shape"
   ]
  },
  {
   "cell_type": "markdown",
   "id": "43f97678",
   "metadata": {},
   "source": [
    "# Linear Regression Performance"
   ]
  },
  {
   "cell_type": "code",
   "execution_count": 25,
   "id": "3039d771",
   "metadata": {},
   "outputs": [],
   "source": [
    "from sklearn.linear_model import LinearRegression"
   ]
  },
  {
   "cell_type": "code",
   "execution_count": 26,
   "id": "49c549dc",
   "metadata": {},
   "outputs": [
    {
     "data": {
      "text/html": [
       "<style>#sk-container-id-1 {color: black;background-color: white;}#sk-container-id-1 pre{padding: 0;}#sk-container-id-1 div.sk-toggleable {background-color: white;}#sk-container-id-1 label.sk-toggleable__label {cursor: pointer;display: block;width: 100%;margin-bottom: 0;padding: 0.3em;box-sizing: border-box;text-align: center;}#sk-container-id-1 label.sk-toggleable__label-arrow:before {content: \"▸\";float: left;margin-right: 0.25em;color: #696969;}#sk-container-id-1 label.sk-toggleable__label-arrow:hover:before {color: black;}#sk-container-id-1 div.sk-estimator:hover label.sk-toggleable__label-arrow:before {color: black;}#sk-container-id-1 div.sk-toggleable__content {max-height: 0;max-width: 0;overflow: hidden;text-align: left;background-color: #f0f8ff;}#sk-container-id-1 div.sk-toggleable__content pre {margin: 0.2em;color: black;border-radius: 0.25em;background-color: #f0f8ff;}#sk-container-id-1 input.sk-toggleable__control:checked~div.sk-toggleable__content {max-height: 200px;max-width: 100%;overflow: auto;}#sk-container-id-1 input.sk-toggleable__control:checked~label.sk-toggleable__label-arrow:before {content: \"▾\";}#sk-container-id-1 div.sk-estimator input.sk-toggleable__control:checked~label.sk-toggleable__label {background-color: #d4ebff;}#sk-container-id-1 div.sk-label input.sk-toggleable__control:checked~label.sk-toggleable__label {background-color: #d4ebff;}#sk-container-id-1 input.sk-hidden--visually {border: 0;clip: rect(1px 1px 1px 1px);clip: rect(1px, 1px, 1px, 1px);height: 1px;margin: -1px;overflow: hidden;padding: 0;position: absolute;width: 1px;}#sk-container-id-1 div.sk-estimator {font-family: monospace;background-color: #f0f8ff;border: 1px dotted black;border-radius: 0.25em;box-sizing: border-box;margin-bottom: 0.5em;}#sk-container-id-1 div.sk-estimator:hover {background-color: #d4ebff;}#sk-container-id-1 div.sk-parallel-item::after {content: \"\";width: 100%;border-bottom: 1px solid gray;flex-grow: 1;}#sk-container-id-1 div.sk-label:hover label.sk-toggleable__label {background-color: #d4ebff;}#sk-container-id-1 div.sk-serial::before {content: \"\";position: absolute;border-left: 1px solid gray;box-sizing: border-box;top: 0;bottom: 0;left: 50%;z-index: 0;}#sk-container-id-1 div.sk-serial {display: flex;flex-direction: column;align-items: center;background-color: white;padding-right: 0.2em;padding-left: 0.2em;position: relative;}#sk-container-id-1 div.sk-item {position: relative;z-index: 1;}#sk-container-id-1 div.sk-parallel {display: flex;align-items: stretch;justify-content: center;background-color: white;position: relative;}#sk-container-id-1 div.sk-item::before, #sk-container-id-1 div.sk-parallel-item::before {content: \"\";position: absolute;border-left: 1px solid gray;box-sizing: border-box;top: 0;bottom: 0;left: 50%;z-index: -1;}#sk-container-id-1 div.sk-parallel-item {display: flex;flex-direction: column;z-index: 1;position: relative;background-color: white;}#sk-container-id-1 div.sk-parallel-item:first-child::after {align-self: flex-end;width: 50%;}#sk-container-id-1 div.sk-parallel-item:last-child::after {align-self: flex-start;width: 50%;}#sk-container-id-1 div.sk-parallel-item:only-child::after {width: 0;}#sk-container-id-1 div.sk-dashed-wrapped {border: 1px dashed gray;margin: 0 0.4em 0.5em 0.4em;box-sizing: border-box;padding-bottom: 0.4em;background-color: white;}#sk-container-id-1 div.sk-label label {font-family: monospace;font-weight: bold;display: inline-block;line-height: 1.2em;}#sk-container-id-1 div.sk-label-container {text-align: center;}#sk-container-id-1 div.sk-container {/* jupyter's `normalize.less` sets `[hidden] { display: none; }` but bootstrap.min.css set `[hidden] { display: none !important; }` so we also need the `!important` here to be able to override the default hidden behavior on the sphinx rendered scikit-learn.org. See: https://github.com/scikit-learn/scikit-learn/issues/21755 */display: inline-block !important;position: relative;}#sk-container-id-1 div.sk-text-repr-fallback {display: none;}</style><div id=\"sk-container-id-1\" class=\"sk-top-container\"><div class=\"sk-text-repr-fallback\"><pre>LinearRegression()</pre><b>In a Jupyter environment, please rerun this cell to show the HTML representation or trust the notebook. <br />On GitHub, the HTML representation is unable to render, please try loading this page with nbviewer.org.</b></div><div class=\"sk-container\" hidden><div class=\"sk-item\"><div class=\"sk-estimator sk-toggleable\"><input class=\"sk-toggleable__control sk-hidden--visually\" id=\"sk-estimator-id-1\" type=\"checkbox\" checked><label for=\"sk-estimator-id-1\" class=\"sk-toggleable__label sk-toggleable__label-arrow\">LinearRegression</label><div class=\"sk-toggleable__content\"><pre>LinearRegression()</pre></div></div></div></div></div>"
      ],
      "text/plain": [
       "LinearRegression()"
      ]
     },
     "execution_count": 26,
     "metadata": {},
     "output_type": "execute_result"
    }
   ],
   "source": [
    "model = LinearRegression()\n",
    "model.fit(xtrain,ytrain)"
   ]
  },
  {
   "cell_type": "code",
   "execution_count": 27,
   "id": "3e42f457",
   "metadata": {},
   "outputs": [
    {
     "data": {
      "text/plain": [
       "1.0"
      ]
     },
     "execution_count": 27,
     "metadata": {},
     "output_type": "execute_result"
    }
   ],
   "source": [
    "model.score(xtrain,ytrain)"
   ]
  },
  {
   "cell_type": "code",
   "execution_count": 28,
   "id": "983af542",
   "metadata": {},
   "outputs": [
    {
     "data": {
      "text/plain": [
       "0.8340498998711736"
      ]
     },
     "execution_count": 28,
     "metadata": {},
     "output_type": "execute_result"
    }
   ],
   "source": [
    "model.score(xtest,ytest)"
   ]
  },
  {
   "cell_type": "code",
   "execution_count": 29,
   "id": "5e215f60",
   "metadata": {},
   "outputs": [],
   "source": [
    "from MyFunctions import evaluate_model"
   ]
  },
  {
   "cell_type": "code",
   "execution_count": 30,
   "id": "9aec9888",
   "metadata": {},
   "outputs": [
    {
     "name": "stdout",
     "output_type": "stream",
     "text": [
      "Training Scores :\n",
      "MSE :  1.5488677517145797e-24\n",
      "RMSE:  1.2445351548729267e-12\n",
      "MAE :  8.695506777085766e-13\n",
      "R2  :  1.0\n",
      "\n",
      "============================\n",
      "\n",
      "Testing Scores :\n",
      "MSE :  38556.00042408598\n",
      "RMSE:  196.35681914332892\n",
      "MAE :  148.48959727997965\n",
      "R2  :  0.8340498998711736\n"
     ]
    }
   ],
   "source": [
    "evaluate_model(xtrain,ytrain,xtest,ytest,model)"
   ]
  },
  {
   "cell_type": "markdown",
   "id": "76ae0a33",
   "metadata": {},
   "source": [
    "# Create a Ridge model"
   ]
  },
  {
   "cell_type": "code",
   "execution_count": 31,
   "id": "5887fd0e",
   "metadata": {},
   "outputs": [
    {
     "data": {
      "text/html": [
       "<style>#sk-container-id-2 {color: black;background-color: white;}#sk-container-id-2 pre{padding: 0;}#sk-container-id-2 div.sk-toggleable {background-color: white;}#sk-container-id-2 label.sk-toggleable__label {cursor: pointer;display: block;width: 100%;margin-bottom: 0;padding: 0.3em;box-sizing: border-box;text-align: center;}#sk-container-id-2 label.sk-toggleable__label-arrow:before {content: \"▸\";float: left;margin-right: 0.25em;color: #696969;}#sk-container-id-2 label.sk-toggleable__label-arrow:hover:before {color: black;}#sk-container-id-2 div.sk-estimator:hover label.sk-toggleable__label-arrow:before {color: black;}#sk-container-id-2 div.sk-toggleable__content {max-height: 0;max-width: 0;overflow: hidden;text-align: left;background-color: #f0f8ff;}#sk-container-id-2 div.sk-toggleable__content pre {margin: 0.2em;color: black;border-radius: 0.25em;background-color: #f0f8ff;}#sk-container-id-2 input.sk-toggleable__control:checked~div.sk-toggleable__content {max-height: 200px;max-width: 100%;overflow: auto;}#sk-container-id-2 input.sk-toggleable__control:checked~label.sk-toggleable__label-arrow:before {content: \"▾\";}#sk-container-id-2 div.sk-estimator input.sk-toggleable__control:checked~label.sk-toggleable__label {background-color: #d4ebff;}#sk-container-id-2 div.sk-label input.sk-toggleable__control:checked~label.sk-toggleable__label {background-color: #d4ebff;}#sk-container-id-2 input.sk-hidden--visually {border: 0;clip: rect(1px 1px 1px 1px);clip: rect(1px, 1px, 1px, 1px);height: 1px;margin: -1px;overflow: hidden;padding: 0;position: absolute;width: 1px;}#sk-container-id-2 div.sk-estimator {font-family: monospace;background-color: #f0f8ff;border: 1px dotted black;border-radius: 0.25em;box-sizing: border-box;margin-bottom: 0.5em;}#sk-container-id-2 div.sk-estimator:hover {background-color: #d4ebff;}#sk-container-id-2 div.sk-parallel-item::after {content: \"\";width: 100%;border-bottom: 1px solid gray;flex-grow: 1;}#sk-container-id-2 div.sk-label:hover label.sk-toggleable__label {background-color: #d4ebff;}#sk-container-id-2 div.sk-serial::before {content: \"\";position: absolute;border-left: 1px solid gray;box-sizing: border-box;top: 0;bottom: 0;left: 50%;z-index: 0;}#sk-container-id-2 div.sk-serial {display: flex;flex-direction: column;align-items: center;background-color: white;padding-right: 0.2em;padding-left: 0.2em;position: relative;}#sk-container-id-2 div.sk-item {position: relative;z-index: 1;}#sk-container-id-2 div.sk-parallel {display: flex;align-items: stretch;justify-content: center;background-color: white;position: relative;}#sk-container-id-2 div.sk-item::before, #sk-container-id-2 div.sk-parallel-item::before {content: \"\";position: absolute;border-left: 1px solid gray;box-sizing: border-box;top: 0;bottom: 0;left: 50%;z-index: -1;}#sk-container-id-2 div.sk-parallel-item {display: flex;flex-direction: column;z-index: 1;position: relative;background-color: white;}#sk-container-id-2 div.sk-parallel-item:first-child::after {align-self: flex-end;width: 50%;}#sk-container-id-2 div.sk-parallel-item:last-child::after {align-self: flex-start;width: 50%;}#sk-container-id-2 div.sk-parallel-item:only-child::after {width: 0;}#sk-container-id-2 div.sk-dashed-wrapped {border: 1px dashed gray;margin: 0 0.4em 0.5em 0.4em;box-sizing: border-box;padding-bottom: 0.4em;background-color: white;}#sk-container-id-2 div.sk-label label {font-family: monospace;font-weight: bold;display: inline-block;line-height: 1.2em;}#sk-container-id-2 div.sk-label-container {text-align: center;}#sk-container-id-2 div.sk-container {/* jupyter's `normalize.less` sets `[hidden] { display: none; }` but bootstrap.min.css set `[hidden] { display: none !important; }` so we also need the `!important` here to be able to override the default hidden behavior on the sphinx rendered scikit-learn.org. See: https://github.com/scikit-learn/scikit-learn/issues/21755 */display: inline-block !important;position: relative;}#sk-container-id-2 div.sk-text-repr-fallback {display: none;}</style><div id=\"sk-container-id-2\" class=\"sk-top-container\"><div class=\"sk-text-repr-fallback\"><pre>Ridge(alpha=2)</pre><b>In a Jupyter environment, please rerun this cell to show the HTML representation or trust the notebook. <br />On GitHub, the HTML representation is unable to render, please try loading this page with nbviewer.org.</b></div><div class=\"sk-container\" hidden><div class=\"sk-item\"><div class=\"sk-estimator sk-toggleable\"><input class=\"sk-toggleable__control sk-hidden--visually\" id=\"sk-estimator-id-2\" type=\"checkbox\" checked><label for=\"sk-estimator-id-2\" class=\"sk-toggleable__label sk-toggleable__label-arrow\">Ridge</label><div class=\"sk-toggleable__content\"><pre>Ridge(alpha=2)</pre></div></div></div></div></div>"
      ],
      "text/plain": [
       "Ridge(alpha=2)"
      ]
     },
     "execution_count": 31,
     "metadata": {},
     "output_type": "execute_result"
    }
   ],
   "source": [
    "from sklearn.linear_model import Ridge\n",
    "model2 = Ridge(alpha=2)\n",
    "model2.fit(xtrain,ytrain)"
   ]
  },
  {
   "cell_type": "code",
   "execution_count": 32,
   "id": "491f2eed",
   "metadata": {},
   "outputs": [
    {
     "data": {
      "text/plain": [
       "0.9953183637556047"
      ]
     },
     "execution_count": 32,
     "metadata": {},
     "output_type": "execute_result"
    }
   ],
   "source": [
    "model2.score(xtrain,ytrain)"
   ]
  },
  {
   "cell_type": "code",
   "execution_count": 33,
   "id": "e902710b",
   "metadata": {},
   "outputs": [
    {
     "data": {
      "text/plain": [
       "0.8656890544193271"
      ]
     },
     "execution_count": 33,
     "metadata": {},
     "output_type": "execute_result"
    }
   ],
   "source": [
    "model2.score(xtest,ytest)"
   ]
  },
  {
   "cell_type": "code",
   "execution_count": 34,
   "id": "9e45845f",
   "metadata": {},
   "outputs": [
    {
     "name": "stdout",
     "output_type": "stream",
     "text": [
      "Training Scores :\n",
      "MSE :  1741.17088062425\n",
      "RMSE:  41.72733972618252\n",
      "MAE :  31.499149769846923\n",
      "R2  :  0.9953183637556047\n",
      "\n",
      "============================\n",
      "\n",
      "Testing Scores :\n",
      "MSE :  31205.120519648808\n",
      "RMSE:  176.6497113488975\n",
      "MAE :  136.57900783291345\n",
      "R2  :  0.8656890544193271\n"
     ]
    }
   ],
   "source": [
    "evaluate_model(xtrain,ytrain,xtest,ytest,model2)"
   ]
  },
  {
   "cell_type": "markdown",
   "id": "b2cd637b",
   "metadata": {},
   "source": [
    "# Tuning the alpha value"
   ]
  },
  {
   "cell_type": "code",
   "execution_count": 35,
   "id": "a264f76b",
   "metadata": {},
   "outputs": [
    {
     "name": "stdout",
     "output_type": "stream",
     "text": [
      "[ 0.1  0.2  0.3  0.4  0.5  0.6  0.7  0.8  0.9  1.   1.1  1.2  1.3  1.4\n",
      "  1.5  1.6  1.7  1.8  1.9  2.   2.1  2.2  2.3  2.4  2.5  2.6  2.7  2.8\n",
      "  2.9  3.   3.1  3.2  3.3  3.4  3.5  3.6  3.7  3.8  3.9  4.   4.1  4.2\n",
      "  4.3  4.4  4.5  4.6  4.7  4.8  4.9  5.   5.1  5.2  5.3  5.4  5.5  5.6\n",
      "  5.7  5.8  5.9  6.   6.1  6.2  6.3  6.4  6.5  6.6  6.7  6.8  6.9  7.\n",
      "  7.1  7.2  7.3  7.4  7.5  7.6  7.7  7.8  7.9  8.   8.1  8.2  8.3  8.4\n",
      "  8.5  8.6  8.7  8.8  8.9  9.   9.1  9.2  9.3  9.4  9.5  9.6  9.7  9.8\n",
      "  9.9 10.  10.1 10.2 10.3 10.4 10.5 10.6 10.7 10.8 10.9 11.  11.1 11.2\n",
      " 11.3 11.4 11.5 11.6 11.7 11.8 11.9 12.  12.1 12.2 12.3 12.4 12.5 12.6\n",
      " 12.7 12.8 12.9 13.  13.1 13.2 13.3 13.4 13.5 13.6 13.7 13.8 13.9 14.\n",
      " 14.1 14.2 14.3 14.4 14.5 14.6 14.7 14.8 14.9 15.  15.1 15.2 15.3 15.4\n",
      " 15.5 15.6 15.7 15.8 15.9 16.  16.1 16.2 16.3 16.4 16.5 16.6 16.7 16.8\n",
      " 16.9 17.  17.1 17.2 17.3 17.4 17.5 17.6 17.7 17.8 17.9 18.  18.1 18.2\n",
      " 18.3 18.4 18.5 18.6 18.7 18.8 18.9 19.  19.1 19.2 19.3 19.4 19.5 19.6\n",
      " 19.7 19.8 19.9 20.  20.1 20.2 20.3 20.4 20.5 20.6 20.7 20.8 20.9 21.\n",
      " 21.1 21.2 21.3 21.4 21.5 21.6 21.7 21.8 21.9 22.  22.1 22.2 22.3 22.4\n",
      " 22.5 22.6 22.7 22.8 22.9 23.  23.1 23.2 23.3 23.4 23.5 23.6 23.7 23.8\n",
      " 23.9 24.  24.1 24.2 24.3 24.4 24.5 24.6 24.7 24.8 24.9 25.  25.1 25.2\n",
      " 25.3 25.4 25.5 25.6 25.7 25.8 25.9 26.  26.1 26.2 26.3 26.4 26.5 26.6\n",
      " 26.7 26.8 26.9 27.  27.1 27.2 27.3 27.4 27.5 27.6 27.7 27.8 27.9 28.\n",
      " 28.1 28.2 28.3 28.4 28.5 28.6 28.7 28.8 28.9 29.  29.1 29.2 29.3 29.4\n",
      " 29.5 29.6 29.7 29.8 29.9 30.  30.1 30.2 30.3 30.4 30.5 30.6 30.7 30.8\n",
      " 30.9 31.  31.1 31.2 31.3 31.4 31.5 31.6 31.7 31.8 31.9 32.  32.1 32.2\n",
      " 32.3 32.4 32.5 32.6 32.7 32.8 32.9 33.  33.1 33.2 33.3 33.4 33.5 33.6\n",
      " 33.7 33.8 33.9 34.  34.1 34.2 34.3 34.4 34.5 34.6 34.7 34.8 34.9 35.\n",
      " 35.1 35.2 35.3 35.4 35.5 35.6 35.7 35.8 35.9 36.  36.1 36.2 36.3 36.4\n",
      " 36.5 36.6 36.7 36.8 36.9 37.  37.1 37.2 37.3 37.4 37.5 37.6 37.7 37.8\n",
      " 37.9 38.  38.1 38.2 38.3 38.4 38.5 38.6 38.7 38.8 38.9 39.  39.1 39.2\n",
      " 39.3 39.4 39.5 39.6 39.7 39.8 39.9 40.  40.1 40.2 40.3 40.4 40.5 40.6\n",
      " 40.7 40.8 40.9 41.  41.1 41.2 41.3 41.4 41.5 41.6 41.7 41.8 41.9 42.\n",
      " 42.1 42.2 42.3 42.4 42.5 42.6 42.7 42.8 42.9 43.  43.1 43.2 43.3 43.4\n",
      " 43.5 43.6 43.7 43.8 43.9 44.  44.1 44.2 44.3 44.4 44.5 44.6 44.7 44.8\n",
      " 44.9 45.  45.1 45.2 45.3 45.4 45.5 45.6 45.7 45.8 45.9 46.  46.1 46.2\n",
      " 46.3 46.4 46.5 46.6 46.7 46.8 46.9 47.  47.1 47.2 47.3 47.4 47.5 47.6\n",
      " 47.7 47.8 47.9 48.  48.1 48.2 48.3 48.4 48.5 48.6 48.7 48.8 48.9 49.\n",
      " 49.1 49.2 49.3 49.4 49.5 49.6 49.7 49.8 49.9]\n"
     ]
    }
   ],
   "source": [
    "import numpy as np\n",
    "alphas = np.arange(0.1,50,0.1)\n",
    "print(alphas)"
   ]
  },
  {
   "cell_type": "code",
   "execution_count": 36,
   "id": "2f920ebc",
   "metadata": {},
   "outputs": [],
   "source": [
    "from sklearn.metrics import mean_squared_error\n",
    "tr = []\n",
    "ts = []\n",
    "for i in alphas:\n",
    "    model3 = Ridge(alpha=i)\n",
    "    model3.fit(xtrain,ytrain)\n",
    "    ypred_tr = model3.predict(xtrain)\n",
    "    ypred_ts = model3.predict(xtest)\n",
    "    tr_err = mean_squared_error(ytrain,ypred_tr)\n",
    "    ts_err = mean_squared_error(ytest,ypred_ts)\n",
    "    tr.append(tr_err)\n",
    "    ts.append(ts_err)"
   ]
  },
  {
   "cell_type": "code",
   "execution_count": 37,
   "id": "19d7deee",
   "metadata": {},
   "outputs": [
    {
     "data": {
      "text/plain": [
       "[12.117425814378155,\n",
       " 44.9973477899854,\n",
       " 94.31223225276645,\n",
       " 156.67277505624992,\n",
       " 229.40102182632535]"
      ]
     },
     "execution_count": 37,
     "metadata": {},
     "output_type": "execute_result"
    }
   ],
   "source": [
    "tr[0:5]"
   ]
  },
  {
   "cell_type": "code",
   "execution_count": 38,
   "id": "cca9474f",
   "metadata": {},
   "outputs": [
    {
     "data": {
      "text/plain": [
       "[37166.17812515366,\n",
       " 36730.41161725309,\n",
       " 36314.01466805885,\n",
       " 35915.51413794486,\n",
       " 35533.596776808336]"
      ]
     },
     "execution_count": 38,
     "metadata": {},
     "output_type": "execute_result"
    }
   ],
   "source": [
    "ts[0:5]"
   ]
  },
  {
   "cell_type": "code",
   "execution_count": 39,
   "id": "839120dc",
   "metadata": {},
   "outputs": [
    {
     "data": {
      "image/png": "[encoded data removed]",
      "text/plain": [
       "<Figure size 640x480 with 1 Axes>"
      ]
     },
     "metadata": {},
     "output_type": "display_data"
    }
   ],
   "source": [
    "import matplotlib.pyplot as plt\n",
    "plt.plot(alphas,tr,c='blue',label='training error')\n",
    "plt.plot(alphas,ts,c='red',label='testing error')\n",
    "plt.xlabel('alpha')\n",
    "plt.ylabel('Mean Squared Error')\n",
    "plt.legend()\n",
    "plt.show()"
   ]
  },
  {
   "cell_type": "code",
   "execution_count": 40,
   "id": "0a640d16",
   "metadata": {},
   "outputs": [
    {
     "name": "stdout",
     "output_type": "stream",
     "text": [
      "Optimum Value of alpha: 38.7\n"
     ]
    }
   ],
   "source": [
    "from sklearn.metrics import mean_squared_error\n",
    "tr = []\n",
    "ts = []\n",
    "for i in alphas:\n",
    "    model3 = Ridge(alpha=i)\n",
    "    model3.fit(xtrain,ytrain)\n",
    "    ypred_tr = model3.predict(xtrain)\n",
    "    ypred_ts = model3.predict(xtest)\n",
    "    tr_err = mean_squared_error(ytrain,ypred_tr)\n",
    "    ts_err = mean_squared_error(ytest,ypred_ts)\n",
    "    tr.append(tr_err)\n",
    "    ts.append(ts_err)\n",
    "    \n",
    "    if tr_err > ts_err:\n",
    "        opt_alpha = i\n",
    "        print(f'Optimum Value of alpha: {i}')\n",
    "        break"
   ]
  },
  {
   "cell_type": "code",
   "execution_count": 41,
   "id": "2915a27b",
   "metadata": {},
   "outputs": [
    {
     "data": {
      "image/png": "[encoded data removed]",
      "text/plain": [
       "<Figure size 640x480 with 1 Axes>"
      ]
     },
     "metadata": {},
     "output_type": "display_data"
    }
   ],
   "source": [
    "alph = np.arange(0.1,opt_alpha+0.1,0.1)\n",
    "plt.plot(alph,tr,c='blue',label='Training Error')\n",
    "plt.plot(alph,ts,c='red',label='Testing Error')\n",
    "plt.xlabel('alpha')\n",
    "plt.ylabel('Mean Squared Error')\n",
    "plt.legend()\n",
    "plt.show()"
   ]
  },
  {
   "cell_type": "markdown",
   "id": "86a83241",
   "metadata": {},
   "source": [
    "# Build Final Ridge model with optimum alpha"
   ]
  },
  {
   "cell_type": "code",
   "execution_count": 42,
   "id": "5d24b3fe",
   "metadata": {},
   "outputs": [
    {
     "data": {
      "text/html": [
       "<style>#sk-container-id-3 {color: black;background-color: white;}#sk-container-id-3 pre{padding: 0;}#sk-container-id-3 div.sk-toggleable {background-color: white;}#sk-container-id-3 label.sk-toggleable__label {cursor: pointer;display: block;width: 100%;margin-bottom: 0;padding: 0.3em;box-sizing: border-box;text-align: center;}#sk-container-id-3 label.sk-toggleable__label-arrow:before {content: \"▸\";float: left;margin-right: 0.25em;color: #696969;}#sk-container-id-3 label.sk-toggleable__label-arrow:hover:before {color: black;}#sk-container-id-3 div.sk-estimator:hover label.sk-toggleable__label-arrow:before {color: black;}#sk-container-id-3 div.sk-toggleable__content {max-height: 0;max-width: 0;overflow: hidden;text-align: left;background-color: #f0f8ff;}#sk-container-id-3 div.sk-toggleable__content pre {margin: 0.2em;color: black;border-radius: 0.25em;background-color: #f0f8ff;}#sk-container-id-3 input.sk-toggleable__control:checked~div.sk-toggleable__content {max-height: 200px;max-width: 100%;overflow: auto;}#sk-container-id-3 input.sk-toggleable__control:checked~label.sk-toggleable__label-arrow:before {content: \"▾\";}#sk-container-id-3 div.sk-estimator input.sk-toggleable__control:checked~label.sk-toggleable__label {background-color: #d4ebff;}#sk-container-id-3 div.sk-label input.sk-toggleable__control:checked~label.sk-toggleable__label {background-color: #d4ebff;}#sk-container-id-3 input.sk-hidden--visually {border: 0;clip: rect(1px 1px 1px 1px);clip: rect(1px, 1px, 1px, 1px);height: 1px;margin: -1px;overflow: hidden;padding: 0;position: absolute;width: 1px;}#sk-container-id-3 div.sk-estimator {font-family: monospace;background-color: #f0f8ff;border: 1px dotted black;border-radius: 0.25em;box-sizing: border-box;margin-bottom: 0.5em;}#sk-container-id-3 div.sk-estimator:hover {background-color: #d4ebff;}#sk-container-id-3 div.sk-parallel-item::after {content: \"\";width: 100%;border-bottom: 1px solid gray;flex-grow: 1;}#sk-container-id-3 div.sk-label:hover label.sk-toggleable__label {background-color: #d4ebff;}#sk-container-id-3 div.sk-serial::before {content: \"\";position: absolute;border-left: 1px solid gray;box-sizing: border-box;top: 0;bottom: 0;left: 50%;z-index: 0;}#sk-container-id-3 div.sk-serial {display: flex;flex-direction: column;align-items: center;background-color: white;padding-right: 0.2em;padding-left: 0.2em;position: relative;}#sk-container-id-3 div.sk-item {position: relative;z-index: 1;}#sk-container-id-3 div.sk-parallel {display: flex;align-items: stretch;justify-content: center;background-color: white;position: relative;}#sk-container-id-3 div.sk-item::before, #sk-container-id-3 div.sk-parallel-item::before {content: \"\";position: absolute;border-left: 1px solid gray;box-sizing: border-box;top: 0;bottom: 0;left: 50%;z-index: -1;}#sk-container-id-3 div.sk-parallel-item {display: flex;flex-direction: column;z-index: 1;position: relative;background-color: white;}#sk-container-id-3 div.sk-parallel-item:first-child::after {align-self: flex-end;width: 50%;}#sk-container-id-3 div.sk-parallel-item:last-child::after {align-self: flex-start;width: 50%;}#sk-container-id-3 div.sk-parallel-item:only-child::after {width: 0;}#sk-container-id-3 div.sk-dashed-wrapped {border: 1px dashed gray;margin: 0 0.4em 0.5em 0.4em;box-sizing: border-box;padding-bottom: 0.4em;background-color: white;}#sk-container-id-3 div.sk-label label {font-family: monospace;font-weight: bold;display: inline-block;line-height: 1.2em;}#sk-container-id-3 div.sk-label-container {text-align: center;}#sk-container-id-3 div.sk-container {/* jupyter's `normalize.less` sets `[hidden] { display: none; }` but bootstrap.min.css set `[hidden] { display: none !important; }` so we also need the `!important` here to be able to override the default hidden behavior on the sphinx rendered scikit-learn.org. See: https://github.com/scikit-learn/scikit-learn/issues/21755 */display: inline-block !important;position: relative;}#sk-container-id-3 div.sk-text-repr-fallback {display: none;}</style><div id=\"sk-container-id-3\" class=\"sk-top-container\"><div class=\"sk-text-repr-fallback\"><pre>Ridge(alpha=38.7)</pre><b>In a Jupyter environment, please rerun this cell to show the HTML representation or trust the notebook. <br />On GitHub, the HTML representation is unable to render, please try loading this page with nbviewer.org.</b></div><div class=\"sk-container\" hidden><div class=\"sk-item\"><div class=\"sk-estimator sk-toggleable\"><input class=\"sk-toggleable__control sk-hidden--visually\" id=\"sk-estimator-id-3\" type=\"checkbox\" checked><label for=\"sk-estimator-id-3\" class=\"sk-toggleable__label sk-toggleable__label-arrow\">Ridge</label><div class=\"sk-toggleable__content\"><pre>Ridge(alpha=38.7)</pre></div></div></div></div></div>"
      ],
      "text/plain": [
       "Ridge(alpha=38.7)"
      ]
     },
     "execution_count": 42,
     "metadata": {},
     "output_type": "execute_result"
    }
   ],
   "source": [
    "model4 = Ridge(alpha=38.7)\n",
    "model4.fit(xtrain,ytrain)"
   ]
  },
  {
   "cell_type": "code",
   "execution_count": 43,
   "id": "01ecfd40",
   "metadata": {},
   "outputs": [
    {
     "data": {
      "text/plain": [
       "0.9583120020576653"
      ]
     },
     "execution_count": 43,
     "metadata": {},
     "output_type": "execute_result"
    }
   ],
   "source": [
    "model4.score(xtrain,ytrain)"
   ]
  },
  {
   "cell_type": "code",
   "execution_count": 44,
   "id": "515b484b",
   "metadata": {},
   "outputs": [
    {
     "data": {
      "text/plain": [
       "0.933330655415987"
      ]
     },
     "execution_count": 44,
     "metadata": {},
     "output_type": "execute_result"
    }
   ],
   "source": [
    "model4.score(xtest,ytest)"
   ]
  },
  {
   "cell_type": "code",
   "execution_count": 45,
   "id": "591df5e5",
   "metadata": {},
   "outputs": [
    {
     "name": "stdout",
     "output_type": "stream",
     "text": [
      "Training Scores :\n",
      "MSE :  15504.392972780328\n",
      "RMSE:  124.51663733325088\n",
      "MAE :  89.61080839053723\n",
      "R2  :  0.9583120020576653\n",
      "\n",
      "============================\n",
      "\n",
      "Testing Scores :\n",
      "MSE :  15489.61571013978\n",
      "RMSE:  124.45728468088873\n",
      "MAE :  103.35977930792733\n",
      "R2  :  0.933330655415987\n"
     ]
    }
   ],
   "source": [
    "evaluate_model(xtrain,ytrain,xtest,ytest,model4)"
   ]
  },
  {
   "cell_type": "code",
   "execution_count": null,
   "id": "49767c97",
   "metadata": {},
   "outputs": [],
   "source": []
  }
 ],
 "metadata": {
  "kernelspec": {
   "display_name": "Python 3 (ipykernel)",
   "language": "python",
   "name": "python3"
  },
  "language_info": {
   "codemirror_mode": {
    "name": "ipython",
    "version": 3
   },
   "file_extension": ".py",
   "mimetype": "text/x-python",
   "name": "python",
   "nbconvert_exporter": "python",
   "pygments_lexer": "ipython3",
   "version": "3.10.9"
  }
 },
 "nbformat": 4,
 "nbformat_minor": 5
}
